{
  "nbformat": 4,
  "nbformat_minor": 0,
  "metadata": {
    "colab": {
      "provenance": [],
      "collapsed_sections": [
        "-WT_gz0IvMyZ",
        "92xLg9PLEmqB",
        "mf15AG7VXJGF"
      ],
      "authorship_tag": "ABX9TyP8u4ETXB7PGwoxG6qidM8h"
    },
    "kernelspec": {
      "name": "python3",
      "display_name": "Python 3"
    },
    "language_info": {
      "name": "python"
    }
  },
  "cells": [
    {
      "cell_type": "markdown",
      "source": [
        "# PROJE'NİN TANIMI"
      ],
      "metadata": {
        "id": "bg_a1nBGumhA"
      }
    },
    {
      "cell_type": "markdown",
      "source": [
        "##############################\n",
        "Diabete Feature Engineering\n",
        "##############################\n",
        "\n",
        " Problem : Özellikleri belirtildiğinde kişilerin diyabet hastası olup olmadıklarını tahmin edebilecek bir makine öğrenmesi modeli geliştirilmesi\n",
        "istenmektedir. Modeli geliştirmeden önce gerekli olan veri analizi ve özellik mühendisliği adımlarını gerçekleştirmeniz beklenmektedir.\n",
        "\n",
        "Veri seti ABD'deki Ulusal Diyabet-Sindirim-Böbrek Hastalıkları Enstitüleri'nde tutulan büyük veri setinin parçasıdır.\n",
        "ABD'deki Arizona Eyaleti'nin en büyük 5. şehri olan Phoenix şehrinde yaşayan 21 yaş ve üzerinde olan Pima Indian kadınları\n",
        "üzerinde yapılan diyabet araştırması için kullanılan verilerdir. 768 gözlem ve 8 sayısal bağımsız değişkenden oluşmaktadır.\n",
        "Hedef değişken \"outcome\" olarak belirtilmiş olup; 1 diyabet test sonucunun pozitif oluşunu, 0 ise negatif oluşunu belirtmektedir.\n",
        "\n",
        "* Pregnancies: Hamilelik sayısı\n",
        "* Glucose: Glikoz\n",
        "* BloodPressure: Kan basıncı (Diastolic(Küçük Tansiyon))\n",
        "* SkinThickness: Cilt Kalınlığı\n",
        "* Insulin: İnsülin.\n",
        "* BMI: Beden kitle indeksi.\n",
        "* DiabetesPedigreeFunction: Soyumuzdaki kişilere göre diyabet olma ihtimalimizi hesaplayan bir fonksiyon.\n",
        "* Age: Yaş (yıl)\n",
        "* Outcome: Kişinin diyabet olup olmadığı bilgisi. Hastalığa sahip (1) ya da değil (0)\n",
        "\n",
        "\n",
        "* GÖREV 1: KEŞİFCİ VERİ ANALİZİ\n",
        "           # Adım 1: Genel resmi inceleyiniz.\n",
        "           # Adım 2: Numerik ve kategorik değişkenleri yakalayınız.\n",
        "           # Adım 3:  Numerik ve kategorik değişkenlerin analizini yapınız.\n",
        "           # Adım 4: Hedef değişken analizi yapınız. (Kategorik değişkenlere göre hedef değişkenin ortalaması, hedef değişkene göre numerik değişkenlerin ortalaması)\n",
        "           # Adım 5: Aykırı gözlem analizi yapınız.\n",
        "           # Adım 6: Eksik gözlem analizi yapınız.\n",
        "           # Adım 7: Korelasyon analizi yapınız.\n",
        "\n",
        "* GÖREV 2: FEATURE ENGINEERING\n",
        "           # Adım 1:  Eksik ve aykırı değerler için gerekli işlemleri yapınız. Veri setinde eksik gözlem bulunmamakta ama Glikoz, Insulin vb.\n",
        "           # değişkenlerde 0 değeri içeren gözlem birimleri eksik değeri ifade ediyor olabilir. Örneğin; bir kişinin glikoz veya insulin değeri\n",
        "           # 0 olamayacaktır. Bu durumu dikkate alarak sıfır değerlerini ilgili değerlerde NaN olarak atama yapıp sonrasında eksik değerlere\n",
        "           # işlemleri uygulayabilirsiniz.\n",
        "           # Adım 2: Yeni değişkenler oluşturunuz.\n",
        "           # Adım 3:  Encoding işlemlerini gerçekleştiriniz.\n",
        "           # Adım 4: Numerik değişkenler için standartlaştırma yapınız.\n",
        "           # Adım 5: Model oluşturunuz."
      ],
      "metadata": {
        "id": "_imQOSrqurDY"
      }
    },
    {
      "cell_type": "markdown",
      "source": [
        "# IMPORT AND DATASET"
      ],
      "metadata": {
        "id": "-WT_gz0IvMyZ"
      }
    },
    {
      "cell_type": "code",
      "source": [
        "# Gerekli Kütüphane ve Fonksiyonlar\n",
        "import numpy as np\n",
        "import pandas as pd\n",
        "import matplotlib.pyplot as plt\n",
        "import seaborn as sns\n",
        "from sklearn.metrics import accuracy_score, precision_score, recall_score, f1_score,roc_auc_score\n",
        "from sklearn.model_selection import GridSearchCV, cross_validate\n",
        "from sklearn.model_selection import train_test_split\n",
        "from sklearn.preprocessing import LabelEncoder\n",
        "from sklearn.ensemble import RandomForestClassifier\n",
        "from sklearn.preprocessing import StandardScaler\n",
        "import warnings\n",
        "warnings.simplefilter(action=\"ignore\")\n",
        "\n",
        "pd.set_option('display.max_columns', None)\n",
        "pd.set_option('display.width', None)\n",
        "pd.set_option('display.max_rows', 20)\n",
        "pd.set_option('display.float_format', lambda x: '%.3f' % x)"
      ],
      "metadata": {
        "id": "Lr5wPrMivOl2"
      },
      "execution_count": null,
      "outputs": []
    },
    {
      "cell_type": "code",
      "source": [
        "df = pd.read_csv(\"diabetes.csv\")\n",
        "df.head()"
      ],
      "metadata": {
        "id": "NSHGc_Uz5ePu"
      },
      "execution_count": null,
      "outputs": []
    },
    {
      "cell_type": "markdown",
      "source": [
        "# EXPLORER DATA ANALYSIS"
      ],
      "metadata": {
        "id": "92xLg9PLEmqB"
      }
    },
    {
      "cell_type": "markdown",
      "source": [
        "GENEL RESİM İNCELEMESİ"
      ],
      "metadata": {
        "id": "OAfbD7DmHixu"
      }
    },
    {
      "cell_type": "code",
      "source": [
        "# genel resimi inceleyelim\n",
        "def check_df(dataframe, head=5):\n",
        "  print(\"------------SHAPE------------\")\n",
        "  print(dataframe.shape)\n",
        "  print(\"------------DATATYPES------------\")\n",
        "  print(dataframe.dtypes)\n",
        "  print(\"------------NA------------\")\n",
        "  print(dataframe.isnull().sum())\n",
        "  print(\"------------QUANTİLES------------\")\n",
        "  print(dataframe.quantile([0, 0.05, 0.50, 0.95, 0.99, 1]).T)"
      ],
      "metadata": {
        "id": "WeyI3ofOE0oj"
      },
      "execution_count": null,
      "outputs": []
    },
    {
      "cell_type": "code",
      "source": [
        "check_df(df)"
      ],
      "metadata": {
        "id": "h76oIXeBF1Q2"
      },
      "execution_count": null,
      "outputs": []
    },
    {
      "cell_type": "markdown",
      "source": [
        "NUMERİK VE KATEGORİK DEĞİŞKENLERİN TİPLERİNE GÖRE AYRILMASI(GRAB)"
      ],
      "metadata": {
        "id": "Y2D8jHSyHoW7"
      }
    },
    {
      "cell_type": "code",
      "source": [
        "def grab_col_names(dataframe, cat_th=10, car_th=20):\n",
        "  cat_cols = [col for col in dataframe.columns if dataframe[col].dtypes == \"O\" ]\n",
        "  num_but_cat = [col for col in dataframe.columns if dataframe[col].nunique() < cat_th and dataframe[col].dtypes != \"O\"]\n",
        "\n",
        "  cat_but_car = [col for col in dataframe.columns if dataframe[col].nunique () > car_th and dataframe[col].dtypes == \"O\"]\n",
        "\n",
        "  cat_cols = cat_cols + num_but_cat\n",
        "  cat_cols = [col for col in cat_cols if col not in cat_but_car]\n",
        "\n",
        "  num_cols = [col for col in dataframe.columns if dataframe[col].dtypes != \"O\"]\n",
        "  num_cols = [col for col in num_cols if col not in num_but_cat]\n",
        "\n",
        "  print(f\"Observations: {dataframe.shape[0]}\")\n",
        "  print(f\"Variables: {dataframe.shape[1]}\")\n",
        "  print(f'cat_cols: {len(cat_cols)}')\n",
        "  print(f'num_cols: {len(num_cols)}')\n",
        "  print(f'cat_but_car: {len(cat_but_car)}')\n",
        "  print(f'num_but_cat: {len(num_but_cat)}')\n",
        "\n",
        "  return cat_cols, num_cols, cat_but_car\n"
      ],
      "metadata": {
        "id": "mf_6CfD3Hhdo"
      },
      "execution_count": null,
      "outputs": []
    },
    {
      "cell_type": "code",
      "source": [
        "cat_cols, num_cols, cat_but_car = grab_col_names(df)"
      ],
      "metadata": {
        "id": "b-0x43GBNrnN"
      },
      "execution_count": null,
      "outputs": []
    },
    {
      "cell_type": "markdown",
      "source": [
        "KATEGORİK DEĞİŞKENLERİN ANALİZİ"
      ],
      "metadata": {
        "id": "nfBzYhFeQVwx"
      }
    },
    {
      "cell_type": "code",
      "source": [
        "def cat_summary(dataframe, col_name, plot=False):\n",
        "  print(pd.DataFrame({col_name: dataframe[col_name].value_counts(),\n",
        "                      \"Ratio\": 100 * dataframe[col_name].value_counts() / len(dataframe)}))\n",
        "  print(\"------------------------------------\")\n",
        "  if plot:\n",
        "    sns.countplot(x=dataframe[col_name], data=dataframe)\n",
        "    plt.show()"
      ],
      "metadata": {
        "id": "Y0AMcPetQZnb"
      },
      "execution_count": null,
      "outputs": []
    },
    {
      "cell_type": "code",
      "source": [
        "cat_summary(df, \"Outcome\")"
      ],
      "metadata": {
        "id": "4QB9l0W7RO6c"
      },
      "execution_count": null,
      "outputs": []
    },
    {
      "cell_type": "markdown",
      "source": [
        "NUMERİK DEĞİŞKENLERİN ANALİZİ"
      ],
      "metadata": {
        "id": "xYPEwuJzRba8"
      }
    },
    {
      "cell_type": "code",
      "source": [
        "def num_summary(dataframe, numerical_col, plot=False):\n",
        "    quantiles = [0.05, 0.10, 0.20, 0.30, 0.40, 0.50, 0.60, 0.70, 0.80, 0.90, 0.95, 0.99]\n",
        "    print(dataframe[numerical_col].describe(quantiles).T)\n",
        "\n",
        "    if plot:\n",
        "        dataframe[numerical_col].hist(bins=20)\n",
        "        plt.xlabel(numerical_col)\n",
        "        plt.title(numerical_col)\n",
        "        plt.show()\n",
        "\n",
        "for col in num_cols:\n",
        "    num_summary(df, col, plot=True)"
      ],
      "metadata": {
        "id": "kG5inbMERdRT"
      },
      "execution_count": null,
      "outputs": []
    },
    {
      "cell_type": "markdown",
      "source": [
        "NUMERİK DEĞİŞKENLERİN TARGET'A GÖRE ANALİZİ"
      ],
      "metadata": {
        "id": "jmw7rB0SUg42"
      }
    },
    {
      "cell_type": "code",
      "source": [
        "def target_summary_with_num(dataframe, target, numerical_col):\n",
        "    print(dataframe.groupby(target).agg({numerical_col: \"mean\"}), end=\"\\n\\n\\n\")\n",
        "\n",
        "for col in num_cols:\n",
        "    target_summary_with_num(df, \"Outcome\", col)"
      ],
      "metadata": {
        "id": "UmRZLJW1Ukro"
      },
      "execution_count": null,
      "outputs": []
    },
    {
      "cell_type": "markdown",
      "source": [
        "KORELASYON ANALİZİ"
      ],
      "metadata": {
        "id": "4QabW2DrVPce"
      }
    },
    {
      "cell_type": "code",
      "source": [
        "df.corr()"
      ],
      "metadata": {
        "id": "YNTKUbMFVRFA"
      },
      "execution_count": null,
      "outputs": []
    },
    {
      "cell_type": "code",
      "source": [
        "# Korelasyon Matrisi\n",
        "f, ax = plt.subplots(figsize=[8, 10])\n",
        "sns.heatmap(df.corr(), annot=True, fmt=\".2f\", ax=ax, cmap=\"magma\")\n",
        "ax.set_title(\"Correlation Matrix\", fontsize=20)\n",
        "plt.show()"
      ],
      "metadata": {
        "id": "F_RdlirMVThy"
      },
      "execution_count": null,
      "outputs": []
    },
    {
      "cell_type": "markdown",
      "source": [
        "# BASE MODEL KURULUMU"
      ],
      "metadata": {
        "id": "mf15AG7VXJGF"
      }
    },
    {
      "cell_type": "markdown",
      "source": [
        "base model kurmamızdaki sebep feature eng ve ml kısmına geçmeden önce verinin ve yaptığımız işlemlerin modellemeye bir katkısı olur mu bunu gözlemliyoruz.\n",
        "bütün işlemler bittiğinde son yaptığımız modellememizle bu base modeli karşılaştırırız ki ne kadar etkili olmuş ne kadar yol kat etmşiz bakarız."
      ],
      "metadata": {
        "id": "D5ReOL_vbm5y"
      }
    },
    {
      "cell_type": "code",
      "source": [
        "y = df[\"Outcome\"]\n",
        "X = df.drop(\"Outcome\", axis=1)"
      ],
      "metadata": {
        "id": "lnN7D3_2XLRR"
      },
      "execution_count": null,
      "outputs": []
    },
    {
      "cell_type": "code",
      "source": [
        "X_train, X_test, y_train, y_test = train_test_split(X, y, test_size=0.30, random_state=17)\n",
        "# random_state = sürekli bu modellemeyi çalıştırsakta bize aynı değerleri vermesi için"
      ],
      "metadata": {
        "id": "mybxuD9JcX3W"
      },
      "execution_count": null,
      "outputs": []
    },
    {
      "cell_type": "code",
      "source": [
        "rf_model = RandomForestClassifier(random_state=46).fit(X_train, y_train)\n",
        "y_pred = rf_model.predict(X_test)"
      ],
      "metadata": {
        "id": "AczSQNg5c_84"
      },
      "execution_count": null,
      "outputs": []
    },
    {
      "cell_type": "code",
      "source": [
        "print(f\"Accuracy: {round(accuracy_score(y_pred, y_test), 2)}\")\n",
        "print(f\"Recall: {round(recall_score(y_pred,y_test),3)}\")\n",
        "print(f\"Precision: {round(precision_score(y_pred,y_test), 2)}\")\n",
        "print(f\"F1: {round(f1_score(y_pred,y_test), 2)}\")\n",
        "print(f\"Auc: {round(roc_auc_score(y_pred,y_test), 2)}\")\n",
        "\n",
        "# Accuracy: 0.77\n",
        "# Recall: 0.706 # pozitif sınıfın ne kadar başarılı tahmin edildiği\n",
        "# Precision: 0.59 # Pozitif sınıf olarak tahmin edilen değerlerin başarısı\n",
        "# F1: 0.64\n",
        "# Auc: 0.75"
      ],
      "metadata": {
        "id": "2OugDxvcdWTe"
      },
      "execution_count": null,
      "outputs": []
    },
    {
      "cell_type": "code",
      "source": [
        "# modelleme hangi değişkene nekadar önem veriyor hangi değişken daha önemli\n",
        "def plot_importance(model, features, num=len(X), save=False):\n",
        "    feature_imp = pd.DataFrame({'Value': model.feature_importances_, 'Feature': features.columns})\n",
        "    plt.figure(figsize=(10, 10))\n",
        "    sns.set(font_scale=1)\n",
        "    sns.barplot(x=\"Value\", y=\"Feature\", data=feature_imp.sort_values(by=\"Value\",\n",
        "                                                                     ascending=False)[0:num])\n",
        "    plt.title('Features')\n",
        "    plt.tight_layout()\n",
        "    plt.show()\n",
        "    if save:\n",
        "        plt.savefig('importances.png')\n",
        "\n",
        "plot_importance(rf_model, X)"
      ],
      "metadata": {
        "id": "kaeQhUeMhMXn"
      },
      "execution_count": null,
      "outputs": []
    },
    {
      "cell_type": "markdown",
      "source": [
        "# FEATURE ENGİNEERİNG\n"
      ],
      "metadata": {
        "id": "FrEWH0S4hRd1"
      }
    },
    {
      "cell_type": "markdown",
      "source": [
        "MİSSİNG VALUES(EKSİK DEĞER ANALİZİ)"
      ],
      "metadata": {
        "id": "0DyvlY3qmo0q"
      }
    },
    {
      "cell_type": "code",
      "source": [
        "# Bir insanda Pregnancies ve Outcome dışındaki değişken değerleri 0 olamayacağı bilinmektedir.\n",
        "# Bundan dolayı bu değerlerle ilgili aksiyon kararı alınmalıdır. 0 olan değerlere NaN atanabilir.\n",
        "zero_columns = [col for col in df.columns if (df[col].min() == 0 and col not in [\"Pregnancies\", \"Outcome\"])]\n",
        "zero_columns"
      ],
      "metadata": {
        "colab": {
          "base_uri": "https://localhost:8080/",
          "height": 218
        },
        "id": "3eam2QUWhT5g",
        "outputId": "642b11d2-f2b5-42ed-c3d9-977f7d577907"
      },
      "execution_count": null,
      "outputs": [
        {
          "output_type": "error",
          "ename": "NameError",
          "evalue": "name 'df' is not defined",
          "traceback": [
            "\u001b[0;31m---------------------------------------------------------------------------\u001b[0m",
            "\u001b[0;31mNameError\u001b[0m                                 Traceback (most recent call last)",
            "\u001b[0;32m<ipython-input-2-b837e9b9bb24>\u001b[0m in \u001b[0;36m<cell line: 3>\u001b[0;34m()\u001b[0m\n\u001b[1;32m      1\u001b[0m \u001b[0;31m# Bir insanda Pregnancies ve Outcome dışındaki değişken değerleri 0 olamayacağı bilinmektedir.\u001b[0m\u001b[0;34m\u001b[0m\u001b[0;34m\u001b[0m\u001b[0m\n\u001b[1;32m      2\u001b[0m \u001b[0;31m# Bundan dolayı bu değerlerle ilgili aksiyon kararı alınmalıdır. 0 olan değerlere NaN atanabilir.\u001b[0m\u001b[0;34m\u001b[0m\u001b[0;34m\u001b[0m\u001b[0m\n\u001b[0;32m----> 3\u001b[0;31m \u001b[0mzero_columns\u001b[0m \u001b[0;34m=\u001b[0m \u001b[0;34m[\u001b[0m\u001b[0mcol\u001b[0m \u001b[0;32mfor\u001b[0m \u001b[0mcol\u001b[0m \u001b[0;32min\u001b[0m \u001b[0mdf\u001b[0m\u001b[0;34m.\u001b[0m\u001b[0mcolumns\u001b[0m \u001b[0;32mif\u001b[0m \u001b[0;34m(\u001b[0m\u001b[0mdf\u001b[0m\u001b[0;34m[\u001b[0m\u001b[0mcol\u001b[0m\u001b[0;34m]\u001b[0m\u001b[0;34m.\u001b[0m\u001b[0mmin\u001b[0m\u001b[0;34m(\u001b[0m\u001b[0;34m)\u001b[0m \u001b[0;34m==\u001b[0m \u001b[0;36m0\u001b[0m \u001b[0;32mand\u001b[0m \u001b[0mcol\u001b[0m \u001b[0;32mnot\u001b[0m \u001b[0;32min\u001b[0m \u001b[0;34m[\u001b[0m\u001b[0;34m\"Pregnancies\"\u001b[0m\u001b[0;34m,\u001b[0m \u001b[0;34m\"Outcome\"\u001b[0m\u001b[0;34m]\u001b[0m\u001b[0;34m)\u001b[0m\u001b[0;34m]\u001b[0m\u001b[0;34m\u001b[0m\u001b[0;34m\u001b[0m\u001b[0m\n\u001b[0m\u001b[1;32m      4\u001b[0m \u001b[0mzero_columns\u001b[0m\u001b[0;34m\u001b[0m\u001b[0;34m\u001b[0m\u001b[0m\n",
            "\u001b[0;31mNameError\u001b[0m: name 'df' is not defined"
          ]
        }
      ]
    },
    {
      "cell_type": "code",
      "source": [
        "# Gözlem birimlerinde 0 olan degiskenlerin her birisine gidip 0 iceren gozlem degerlerini NaN ile değiştirelim.\n",
        "for col in zero_columns:\n",
        "  df[col] = np.where(df[col] == 0, np.nan, df[col])"
      ],
      "metadata": {
        "id": "2VPg_zE4niSQ"
      },
      "execution_count": null,
      "outputs": []
    },
    {
      "cell_type": "code",
      "source": [
        "#eksik gözlem analizi\n",
        "df.isnull().sum()"
      ],
      "metadata": {
        "id": "FqTsmGYmn2fo"
      },
      "execution_count": null,
      "outputs": []
    },
    {
      "cell_type": "code",
      "source": [
        "def missing_values_table(dataframe, na_name=False):\n",
        "    na_columns = [col for col in dataframe.columns if dataframe[col].isnull().sum() > 0]\n",
        "    n_miss = dataframe[na_columns].isnull().sum().sort_values(ascending=False)\n",
        "    ratio = (dataframe[na_columns].isnull().sum() / dataframe.shape[0] * 100).sort_values(ascending=False)\n",
        "    missing_df = pd.concat([n_miss, np.round(ratio, 2)], axis=1, keys=['n_miss', 'ratio'])\n",
        "    print(missing_df, end=\"\\n\")\n",
        "    if na_name:\n",
        "        return na_columns\n",
        "\n",
        "na_columns = missing_values_table(df, na_name=True)"
      ],
      "metadata": {
        "id": "s7q85MILoO45"
      },
      "execution_count": null,
      "outputs": []
    },
    {
      "cell_type": "code",
      "source": [
        "# Eksik Değerlerin Bağımlı Değişken ile İlişkisinin İncelenmesi\n",
        "def missing_vs_target(dataframe, target, na_columns):\n",
        "    temp_df = dataframe.copy()\n",
        "    for col in na_columns:\n",
        "        temp_df[col + '_NA_FLAG'] = np.where(temp_df[col].isnull(), 1, 0)\n",
        "    na_flags = temp_df.loc[:, temp_df.columns.str.contains(\"_NA_\")].columns\n",
        "    for col in na_flags:\n",
        "        print(pd.DataFrame({\"TARGET_MEAN\": temp_df.groupby(col)[target].mean(),\n",
        "                            \"Count\": temp_df.groupby(col)[target].count()}), end=\"\\n\\n\\n\")\n",
        "\n",
        "\n",
        "missing_vs_target(df, \"Outcome\", na_columns)"
      ],
      "metadata": {
        "id": "i3f2D8_5tH-z"
      },
      "execution_count": null,
      "outputs": []
    },
    {
      "cell_type": "code",
      "source": [
        "# Eksik Değerlerin Doldurulması\n",
        "# NA değerlerimizi ilgili kolonun median değrine göre doldurma işlemi\n",
        "for col in zero_columns:\n",
        "    df.loc[df[col].isnull(), col] = df[col].median()\n",
        "\n",
        "\n",
        "df.isnull().sum()"
      ],
      "metadata": {
        "id": "KgJRXgEBt2Dt"
      },
      "execution_count": null,
      "outputs": []
    },
    {
      "cell_type": "markdown",
      "source": [
        "OUTLİERS(AYKIRI DEĞER ANALİZİ)"
      ],
      "metadata": {
        "id": "Fw2kWpwJt7HE"
      }
    },
    {
      "cell_type": "code",
      "source": [
        "def outlier_thresholds(dataframe, col_name, q1=0.05, q3=0.95):\n",
        "  quartile1 = dataframe[col_name].quantile(q1)\n",
        "  quartile3 = dataframe[col_name].quantile(q3)\n",
        "  interquantile_range = quartile3 - quartile1\n",
        "  up_limit = quartile3 + 1.5 * interquantile_range\n",
        "  low_limit = quartile1 - 1.5 * interquantile_range\n",
        "  return low_limit, up_limit"
      ],
      "metadata": {
        "id": "7mCOiZjMDAx1"
      },
      "execution_count": null,
      "outputs": []
    },
    {
      "cell_type": "code",
      "source": [
        "def check_outlier(dataframe, col_name):\n",
        "  low_limit, up_limit = outlier_thresholds(dataframe, col_name)\n",
        "  if dataframe[(dataframe[col_name] > up_limit) | (dataframe[col_name] < low_limit)].any(axis=None):\n",
        "    return True\n",
        "  else:\n",
        "    return False"
      ],
      "metadata": {
        "id": "fC9DubMFD8tA"
      },
      "execution_count": null,
      "outputs": []
    },
    {
      "cell_type": "code",
      "source": [
        "def replace_with_thresholds(dataframe, variable, q1=0.05, q3=0.95):\n",
        "  low_limit, up_limit = outlier_thresholds(dataframe, variable, q1=0.05, q3=0.95)\n",
        "  dataframe.loc[(dataframe[variable] < low_limit), variable] = low_limit\n",
        "  dataframe.loc[(dataframe[variable] > up_limit), variable] = up_limit"
      ],
      "metadata": {
        "id": "JKO0em57FIrU"
      },
      "execution_count": null,
      "outputs": []
    },
    {
      "cell_type": "code",
      "source": [
        "for col in df.columns:\n",
        "  print(col, check_outlier(df,col))\n",
        "  if check_outlier(df, col):\n",
        "    replace_with_thresholds(df, col)"
      ],
      "metadata": {
        "id": "4vIwykBuF8cp"
      },
      "execution_count": null,
      "outputs": []
    },
    {
      "cell_type": "code",
      "source": [
        "for col in df.columns:\n",
        "  print(col, replace_with_thresholds(df, col))"
      ],
      "metadata": {
        "colab": {
          "base_uri": "https://localhost:8080/",
          "height": 182
        },
        "id": "piculFV1GW9Q",
        "outputId": "960466b7-08e5-4c36-f4c6-94b4813e36b1"
      },
      "execution_count": null,
      "outputs": [
        {
          "output_type": "error",
          "ename": "NameError",
          "evalue": "name 'df' is not defined",
          "traceback": [
            "\u001b[0;31m---------------------------------------------------------------------------\u001b[0m",
            "\u001b[0;31mNameError\u001b[0m                                 Traceback (most recent call last)",
            "\u001b[0;32m<ipython-input-3-d4d2b8bc5444>\u001b[0m in \u001b[0;36m<cell line: 1>\u001b[0;34m()\u001b[0m\n\u001b[0;32m----> 1\u001b[0;31m \u001b[0;32mfor\u001b[0m \u001b[0mcol\u001b[0m \u001b[0;32min\u001b[0m \u001b[0mdf\u001b[0m\u001b[0;34m.\u001b[0m\u001b[0mcolumns\u001b[0m\u001b[0;34m:\u001b[0m\u001b[0;34m\u001b[0m\u001b[0;34m\u001b[0m\u001b[0m\n\u001b[0m\u001b[1;32m      2\u001b[0m   \u001b[0mprint\u001b[0m\u001b[0;34m(\u001b[0m\u001b[0mcol\u001b[0m\u001b[0;34m,\u001b[0m \u001b[0mreplace_with_thresholds\u001b[0m\u001b[0;34m(\u001b[0m\u001b[0mdf\u001b[0m\u001b[0;34m,\u001b[0m \u001b[0mcol\u001b[0m\u001b[0;34m)\u001b[0m\u001b[0;34m)\u001b[0m\u001b[0;34m\u001b[0m\u001b[0;34m\u001b[0m\u001b[0m\n",
            "\u001b[0;31mNameError\u001b[0m: name 'df' is not defined"
          ]
        }
      ]
    },
    {
      "cell_type": "markdown",
      "source": [
        "FEATURE EXTRACTION(ÖZELLİK ÇIKARIMI)"
      ],
      "metadata": {
        "id": "0dscyYcIHZ-I"
      }
    },
    {
      "cell_type": "code",
      "source": [
        "# yaş değişkeni kategorilere ayırıp yeni yaş değişkenleri oluşturma işlemi\n",
        "df.loc[(df[\"Age\"] >= 21) & (df[\"Age\"] < 50), \"NEW_AGE_CAT\"] = \"mature\"\n",
        "df.loc[(df[\"Age\"] > 50), \"NEW_AGE_CAT\"] = \"senior\""
      ],
      "metadata": {
        "id": "OWNe_eXhHe6U"
      },
      "execution_count": null,
      "outputs": []
    },
    {
      "cell_type": "code",
      "source": [
        "# BMI 18,5 aşağısı underweight, 18.5 ile 24.9 arası normal, 24.9 ile 29.9 arası Overweight ve 30 üstü obez\n",
        "df['NEW_BMI'] = pd.cut(x=df['BMI'], bins=[0, 18.5, 24.9, 29.9, 100],labels=[\"Underweight\", \"Healthy\", \"Overweight\", \"Obese\"])\n"
      ],
      "metadata": {
        "id": "t68y-OD_x3P5"
      },
      "execution_count": null,
      "outputs": []
    },
    {
      "cell_type": "code",
      "source": [
        "# Glukoz degerini kategorik değişkene çevirme\n",
        "df[\"NEW_GLUCOSE\"] = pd.cut(x=df[\"Glucose\"], bins=[0, 140, 200, 300], labels=[\"Normal\", \"Prediabetes\", \"Diabetes\"])"
      ],
      "metadata": {
        "id": "SX-w-ZXHyZpC"
      },
      "execution_count": null,
      "outputs": []
    },
    {
      "cell_type": "code",
      "source": [
        "# Yaş ve beden kitle indeksini bir arada düşünerek kategorik değişken oluşturma 3 kırılım yakalandı\n",
        "df.loc[(df[\"BMI\"] < 18.5) & ((df[\"Age\"] >= 21) & (df[\"Age\"] < 50)), \"NEW_AGE_BMI_NOM\"] = \"underweightmature\"\n",
        "df.loc[(df[\"BMI\"] < 18.5) & (df[\"Age\"] >= 50), \"NEW_AGE_BMI_NOM\"] = \"underweightsenior\"\n",
        "df.loc[((df[\"BMI\"] >= 18.5) & (df[\"BMI\"] < 25)) & ((df[\"Age\"] >= 21) & (df[\"Age\"] < 50)), \"NEW_AGE_BMI_NOM\"] = \"healthymature\"\n",
        "df.loc[((df[\"BMI\"] >= 18.5) & (df[\"BMI\"] < 25)) & (df[\"Age\"] >= 50), \"NEW_AGE_BMI_NOM\"] = \"healthysenior\"\n",
        "df.loc[((df[\"BMI\"] >= 25) & (df[\"BMI\"] < 30)) & ((df[\"Age\"] >= 21) & (df[\"Age\"] < 50)), \"NEW_AGE_BMI_NOM\"] = \"overweightmature\"\n",
        "df.loc[((df[\"BMI\"] >= 25) & (df[\"BMI\"] < 30)) & (df[\"Age\"] >= 50), \"NEW_AGE_BMI_NOM\"] = \"overweightsenior\"\n",
        "df.loc[(df[\"BMI\"] > 18.5) & ((df[\"Age\"] >= 21) & (df[\"Age\"] < 50)), \"NEW_AGE_BMI_NOM\"] = \"obesemature\"\n",
        "df.loc[(df[\"BMI\"] > 18.5) & (df[\"Age\"] >= 50), \"NEW_AGE_BMI_NOM\"] = \"obesesenior\""
      ],
      "metadata": {
        "id": "ZW2MBhIeycYM"
      },
      "execution_count": null,
      "outputs": []
    },
    {
      "cell_type": "code",
      "source": [
        "# Yaş ve Glikoz değerlerini bir arada düşünerek kategorik değişken oluşturma\n",
        "df.loc[(df[\"Glucose\"] < 70) & ((df[\"Age\"] >= 21) & (df[\"Age\"] < 50)), \"NEW_AGE_GLUCOSE_NOM\"] = \"lowmature\"\n",
        "df.loc[(df[\"Glucose\"] < 70) & (df[\"Age\"] >= 50), \"NEW_AGE_GLUCOSE_NOM\"] = \"lowsenior\"\n",
        "df.loc[((df[\"Glucose\"] >= 70) & (df[\"Glucose\"] < 100)) & ((df[\"Age\"] >= 21) & (df[\"Age\"] < 50)), \"NEW_AGE_GLUCOSE_NOM\"] = \"normalmature\"\n",
        "df.loc[((df[\"Glucose\"] >= 70) & (df[\"Glucose\"] < 100)) & (df[\"Age\"] >= 50), \"NEW_AGE_GLUCOSE_NOM\"] = \"normalsenior\"\n",
        "df.loc[((df[\"Glucose\"] >= 100) & (df[\"Glucose\"] <= 125)) & ((df[\"Age\"] >= 21) & (df[\"Age\"] < 50)), \"NEW_AGE_GLUCOSE_NOM\"] = \"hiddenmature\"\n",
        "df.loc[((df[\"Glucose\"] >= 100) & (df[\"Glucose\"] <= 125)) & (df[\"Age\"] >= 50), \"NEW_AGE_GLUCOSE_NOM\"] = \"hiddensenior\"\n",
        "df.loc[(df[\"Glucose\"] > 125) & ((df[\"Age\"] >= 21) & (df[\"Age\"] < 50)), \"NEW_AGE_GLUCOSE_NOM\"] = \"highmature\"\n",
        "df.loc[(df[\"Glucose\"] > 125) & (df[\"Age\"] >= 50), \"NEW_AGE_GLUCOSE_NOM\"] = \"highsenior\"\n"
      ],
      "metadata": {
        "id": "y8MKeY2QyfBj"
      },
      "execution_count": null,
      "outputs": []
    },
    {
      "cell_type": "code",
      "source": [
        "# İnsulin Değeri ile Kategorik değişken türetmek\n",
        "def set_insulin(dataframe, col_name=\"Insulin\"):\n",
        "    if 16 <= dataframe[col_name] <= 166:\n",
        "        return \"Normal\"\n",
        "    else:\n",
        "        return \"Abnormal\"\n",
        "\n",
        "df[\"NEW_INSULIN_SCORE\"] = df.apply(set_insulin, axis=1)\n",
        "\n",
        "df[\"NEW_GLUCOSE*INSULIN\"] = df[\"Glucose\"] * df[\"Insulin\"]\n",
        "\n",
        "# sıfır olan değerler dikkat!!!!\n",
        "df[\"NEW_GLUCOSE*PREGNANCIES\"] = df[\"Glucose\"] * df[\"Pregnancies\"]\n",
        "#df[\"NEW_GLUCOSE*PREGNANCIES\"] = df[\"Glucose\"] * (1+ df[\"Pregnancies\"])\n"
      ],
      "metadata": {
        "id": "C3hsK9gmyhDt"
      },
      "execution_count": null,
      "outputs": []
    },
    {
      "cell_type": "code",
      "source": [
        "# Kolonların büyültülmesi\n",
        "df.columns = [col.upper() for col in df.columns]\n",
        "\n",
        "df.head()"
      ],
      "metadata": {
        "colab": {
          "base_uri": "https://localhost:8080/",
          "height": 218
        },
        "id": "9SOuq5szzKIH",
        "outputId": "e6d0c253-b27d-493c-9b11-8f7b6289b19f"
      },
      "execution_count": null,
      "outputs": [
        {
          "output_type": "error",
          "ename": "NameError",
          "evalue": "name 'df' is not defined",
          "traceback": [
            "\u001b[0;31m---------------------------------------------------------------------------\u001b[0m",
            "\u001b[0;31mNameError\u001b[0m                                 Traceback (most recent call last)",
            "\u001b[0;32m<ipython-input-4-66ee29a59735>\u001b[0m in \u001b[0;36m<cell line: 2>\u001b[0;34m()\u001b[0m\n\u001b[1;32m      1\u001b[0m \u001b[0;31m# Kolonların büyültülmesi\u001b[0m\u001b[0;34m\u001b[0m\u001b[0;34m\u001b[0m\u001b[0m\n\u001b[0;32m----> 2\u001b[0;31m \u001b[0mdf\u001b[0m\u001b[0;34m.\u001b[0m\u001b[0mcolumns\u001b[0m \u001b[0;34m=\u001b[0m \u001b[0;34m[\u001b[0m\u001b[0mcol\u001b[0m\u001b[0;34m.\u001b[0m\u001b[0mupper\u001b[0m\u001b[0;34m(\u001b[0m\u001b[0;34m)\u001b[0m \u001b[0;32mfor\u001b[0m \u001b[0mcol\u001b[0m \u001b[0;32min\u001b[0m \u001b[0mdf\u001b[0m\u001b[0;34m.\u001b[0m\u001b[0mcolumns\u001b[0m\u001b[0;34m]\u001b[0m\u001b[0;34m\u001b[0m\u001b[0;34m\u001b[0m\u001b[0m\n\u001b[0m\u001b[1;32m      3\u001b[0m \u001b[0;34m\u001b[0m\u001b[0m\n\u001b[1;32m      4\u001b[0m \u001b[0mdf\u001b[0m\u001b[0;34m.\u001b[0m\u001b[0mhead\u001b[0m\u001b[0;34m(\u001b[0m\u001b[0;34m)\u001b[0m\u001b[0;34m\u001b[0m\u001b[0;34m\u001b[0m\u001b[0m\n",
            "\u001b[0;31mNameError\u001b[0m: name 'df' is not defined"
          ]
        }
      ]
    },
    {
      "cell_type": "markdown",
      "source": [
        "ENCODİNG SCALİNG"
      ],
      "metadata": {
        "id": "i-QspVMbzdHB"
      }
    },
    {
      "cell_type": "markdown",
      "source": [
        "LABEL ENCODİNG"
      ],
      "metadata": {
        "id": "IcEhncp2FAHN"
      }
    },
    {
      "cell_type": "code",
      "source": [
        "# öncelikle grab_col_names fonk. çağıralım\n",
        "cat_cols, num_cols, cat_but_car = grab_col_names(df)"
      ],
      "metadata": {
        "id": "mx9dfYtqFR-o"
      },
      "execution_count": null,
      "outputs": []
    },
    {
      "cell_type": "code",
      "source": [
        "#LABEL ENCODING\n",
        "def label_encoder(dataframe, binary_col):\n",
        "  labelencoder = LabelEncoder()\n",
        "  dataframe[binary_col] = labelencoder.fit_transform(dataframe[binary_col])\n",
        "  return dataframe"
      ],
      "metadata": {
        "id": "SF9RpOPezX18"
      },
      "execution_count": null,
      "outputs": []
    },
    {
      "cell_type": "code",
      "source": [
        "# eşsiz sınıf sayısı 2 ve kategorik olan değişkenleri binary_cols'a atıp label encoder'dan geçirelim\n",
        "binary_cols = [col for col in df.columns if df[col].dtypes == \"O\" and df[col].nunique() == 2 ]\n",
        "binary_cols"
      ],
      "metadata": {
        "id": "FyndAxHlEJ2u"
      },
      "execution_count": null,
      "outputs": []
    },
    {
      "cell_type": "code",
      "source": [
        "for col in binary_cols:\n",
        "  df = label_encoder(df, col)"
      ],
      "metadata": {
        "id": "Im2BVYukEoUU"
      },
      "execution_count": null,
      "outputs": []
    },
    {
      "cell_type": "code",
      "source": [
        "df.head(3)"
      ],
      "metadata": {
        "id": "Fj3MgrHjEzlv"
      },
      "execution_count": null,
      "outputs": []
    },
    {
      "cell_type": "markdown",
      "source": [
        "ONE HOT ENCODING"
      ],
      "metadata": {
        "id": "jJ6KbU4kFCc1"
      }
    },
    {
      "cell_type": "code",
      "source": [
        "# cat_cols listesinin güncellenme işlemi\n",
        "# öncelikle cat_cols'dan işimize yaramayacak değişkenleri çıkaralım mesela binary_cols ve hedef değişkenimiz\n",
        "cat_cols = [col for col in cat_cols if col not in binary_cols and col not in \"OUTCOME\"]\n",
        "cat_cols"
      ],
      "metadata": {
        "id": "TvekljnBE57e"
      },
      "execution_count": null,
      "outputs": []
    },
    {
      "cell_type": "code",
      "source": [
        "# one hot encoder işlemi fonk.\n",
        "def one_hot_encoder(dataframe, categorical_cols, drop_first=False):\n",
        "  dataframe = pd.get_dummies(dataframe, columns=categorical_cols, drop_first=drop_first)\n",
        "  return dataframe"
      ],
      "metadata": {
        "id": "m-Ri7LNKF8kc"
      },
      "execution_count": null,
      "outputs": []
    },
    {
      "cell_type": "code",
      "source": [
        "df = one_hot_encoder(df, cat_cols, drop_first=True)"
      ],
      "metadata": {
        "id": "naKh2L98GiV-"
      },
      "execution_count": null,
      "outputs": []
    },
    {
      "cell_type": "code",
      "source": [
        "df.shape"
      ],
      "metadata": {
        "id": "IeRuzytxGo4r"
      },
      "execution_count": null,
      "outputs": []
    },
    {
      "cell_type": "code",
      "source": [
        "df.head(1)"
      ],
      "metadata": {
        "id": "qeQtCk3OGqVd"
      },
      "execution_count": null,
      "outputs": []
    },
    {
      "cell_type": "markdown",
      "source": [
        "STANDART SCALER(STANDARTLAŞTIRMA İŞLEMİ)"
      ],
      "metadata": {
        "id": "fbUpQJKKHrJB"
      }
    },
    {
      "cell_type": "code",
      "source": [
        "scaler = StandardScaler()\n",
        "df[num_cols] = scaler.fit_transform(df[num_cols])"
      ],
      "metadata": {
        "id": "oA3t_lPiHmT5"
      },
      "execution_count": null,
      "outputs": []
    },
    {
      "cell_type": "code",
      "source": [
        "df.head(2)"
      ],
      "metadata": {
        "id": "nF3nOGbCIJUQ"
      },
      "execution_count": null,
      "outputs": []
    },
    {
      "cell_type": "markdown",
      "source": [
        "# MACHINE LEARNİNG(MODELLEME KISMI)"
      ],
      "metadata": {
        "id": "uN5i0TM4IPOB"
      }
    },
    {
      "cell_type": "code",
      "source": [
        "y = df[\"OUTCOME\"]\n",
        "X = df.drop(\"OUTCOME\", axis=1)\n",
        "X_train, X_test, y_train, y_test = train_test_split(X, y, test_size=0.30, random_state=17)\n",
        "\n",
        "rf_model = RandomForestClassifier(random_state=46).fit(X_train, y_train)\n",
        "y_pred = rf_model.predict(X_test)\n",
        "\n",
        "print(f\"Accuracy: {round(accuracy_score(y_pred, y_test), 2)}\")\n",
        "print(f\"Recall: {round(recall_score(y_pred,y_test),3)}\")\n",
        "print(f\"Precision: {round(precision_score(y_pred,y_test), 2)}\")\n",
        "print(f\"F1: {round(f1_score(y_pred,y_test), 2)}\")\n",
        "print(f\"Auc: {round(roc_auc_score(y_pred,y_test), 2)}\")"
      ],
      "metadata": {
        "colab": {
          "base_uri": "https://localhost:8080/",
          "height": 236
        },
        "id": "SskcCTF6IT-y",
        "outputId": "c0ace2df-4cb3-43e7-cac3-052321e0c388"
      },
      "execution_count": null,
      "outputs": [
        {
          "output_type": "error",
          "ename": "NameError",
          "evalue": "name 'df' is not defined",
          "traceback": [
            "\u001b[0;31m---------------------------------------------------------------------------\u001b[0m",
            "\u001b[0;31mNameError\u001b[0m                                 Traceback (most recent call last)",
            "\u001b[0;32m<ipython-input-1-88f351e725a5>\u001b[0m in \u001b[0;36m<cell line: 1>\u001b[0;34m()\u001b[0m\n\u001b[0;32m----> 1\u001b[0;31m \u001b[0my\u001b[0m \u001b[0;34m=\u001b[0m \u001b[0mdf\u001b[0m\u001b[0;34m[\u001b[0m\u001b[0;34m\"OUTCOME\"\u001b[0m\u001b[0;34m]\u001b[0m\u001b[0;34m\u001b[0m\u001b[0;34m\u001b[0m\u001b[0m\n\u001b[0m\u001b[1;32m      2\u001b[0m \u001b[0mX\u001b[0m \u001b[0;34m=\u001b[0m \u001b[0mdf\u001b[0m\u001b[0;34m.\u001b[0m\u001b[0mdrop\u001b[0m\u001b[0;34m(\u001b[0m\u001b[0;34m\"OUTCOME\"\u001b[0m\u001b[0;34m,\u001b[0m \u001b[0maxis\u001b[0m\u001b[0;34m=\u001b[0m\u001b[0;36m1\u001b[0m\u001b[0;34m)\u001b[0m\u001b[0;34m\u001b[0m\u001b[0;34m\u001b[0m\u001b[0m\n\u001b[1;32m      3\u001b[0m \u001b[0mX_train\u001b[0m\u001b[0;34m,\u001b[0m \u001b[0mX_test\u001b[0m\u001b[0;34m,\u001b[0m \u001b[0my_train\u001b[0m\u001b[0;34m,\u001b[0m \u001b[0my_test\u001b[0m \u001b[0;34m=\u001b[0m \u001b[0mtrain_test_split\u001b[0m\u001b[0;34m(\u001b[0m\u001b[0mX\u001b[0m\u001b[0;34m,\u001b[0m \u001b[0my\u001b[0m\u001b[0;34m,\u001b[0m \u001b[0mtest_size\u001b[0m\u001b[0;34m=\u001b[0m\u001b[0;36m0.30\u001b[0m\u001b[0;34m,\u001b[0m \u001b[0mrandom_state\u001b[0m\u001b[0;34m=\u001b[0m\u001b[0;36m17\u001b[0m\u001b[0;34m)\u001b[0m\u001b[0;34m\u001b[0m\u001b[0;34m\u001b[0m\u001b[0m\n\u001b[1;32m      4\u001b[0m \u001b[0;34m\u001b[0m\u001b[0m\n\u001b[1;32m      5\u001b[0m \u001b[0mrf_model\u001b[0m \u001b[0;34m=\u001b[0m \u001b[0mRandomForestClassifier\u001b[0m\u001b[0;34m(\u001b[0m\u001b[0mrandom_state\u001b[0m\u001b[0;34m=\u001b[0m\u001b[0;36m46\u001b[0m\u001b[0;34m)\u001b[0m\u001b[0;34m.\u001b[0m\u001b[0mfit\u001b[0m\u001b[0;34m(\u001b[0m\u001b[0mX_train\u001b[0m\u001b[0;34m,\u001b[0m \u001b[0my_train\u001b[0m\u001b[0;34m)\u001b[0m\u001b[0;34m\u001b[0m\u001b[0;34m\u001b[0m\u001b[0m\n",
            "\u001b[0;31mNameError\u001b[0m: name 'df' is not defined"
          ]
        }
      ]
    },
    {
      "cell_type": "code",
      "source": [
        "# FEATURE IMPORTANCE\n",
        "##################################\n",
        "\n",
        "def plot_importance(model, features, num=len(X), save=False):\n",
        "    feature_imp = pd.DataFrame({'Value': model.feature_importances_, 'Feature': features.columns})\n",
        "    print(feature_imp.sort_values(\"Value\",ascending=False))\n",
        "    plt.figure(figsize=(10, 10))\n",
        "    sns.set(font_scale=1)\n",
        "    sns.barplot(x=\"Value\", y=\"Feature\", data=feature_imp.sort_values(by=\"Value\",\n",
        "                                                                     ascending=False)[0:num])\n",
        "    plt.title('Features')\n",
        "    plt.tight_layout()\n",
        "    plt.show()\n",
        "    if save:\n",
        "        plt.savefig('importances.png')\n",
        "\n",
        "plot_importance(rf_model, X)"
      ],
      "metadata": {
        "id": "nIjSU-gDJ7pi"
      },
      "execution_count": null,
      "outputs": []
    }
  ]
}